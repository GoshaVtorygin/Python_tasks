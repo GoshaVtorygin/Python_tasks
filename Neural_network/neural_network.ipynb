{
 "cells": [
  {
   "cell_type": "markdown",
   "metadata": {
    "id": "KFRVyDN0LLv9"
   },
   "source": [
    "# Попадает ли точка в фигуру?\n",
    "\n",
    "Потребуются `pip install tensorflow keras`"
   ]
  },
  {
   "cell_type": "code",
   "execution_count": 1,
   "metadata": {
    "id": "FWbU7QflLLwF"
   },
   "outputs": [],
   "source": [
    "import os\n",
    "import numpy as np\n",
    "import math\n",
    "from tensorflow.keras import models, layers"
   ]
  },
  {
   "cell_type": "markdown",
   "metadata": {
    "id": "gqIQrTlRLLwG"
   },
   "source": [
    "`XY` — 1000000 случайных точек, `Z` — попадает точка в фигуру (1) или нет (0)"
   ]
  },
  {
   "cell_type": "code",
   "execution_count": 2,
   "metadata": {
    "id": "IcNuU3vBLLwH"
   },
   "outputs": [],
   "source": [
    "  XY = np.random.random((1_000_000, 2)).astype(np.float32) * 4.0 - 2.0\n",
    "\n",
    "  Z = np.array([\n",
    "    1 if (x**2 + y**2)**2 <= 2*(x**2 - y**2) else 0\n",
    "    for [x, y] in XY\n",
    "  ], dtype=np.float32)"
   ]
  },
  {
   "cell_type": "code",
   "execution_count": 3,
   "metadata": {
    "id": "kgHfCXeBLLwI"
   },
   "outputs": [],
   "source": [
    "model = models.Sequential([\n",
    "    layers.InputLayer(input_shape=(2,)),\n",
    "    layers.Dense(100, activation='sigmoid', use_bias=True),\n",
    "    layers.Dense(20, activation='sigmoid', use_bias=True),\n",
    "    layers.Dense(1, activation='sigmoid', use_bias=False)\n",
    "])\n",
    "\n",
    "model.compile(\n",
    "    loss='mean_squared_error',\n",
    "    optimizer='adam',\n",
    "    metrics='accuracy'\n",
    ")"
   ]
  },
  {
   "cell_type": "code",
   "execution_count": 4,
   "metadata": {
    "colab": {
     "base_uri": "https://localhost:8080/"
    },
    "id": "YmH4fp2HLLwJ",
    "outputId": "4a981780-29a5-4888-b805-479f727c0530"
   },
   "outputs": [
    {
     "name": "stdout",
     "output_type": "stream",
     "text": [
      "Training the duckling...\n",
      "31250/31250 [==============================] - 23s 740us/step - loss: 0.0021 - accuracy: 0.9982\n",
      "Done, [0.0020545136649161577, 0.9982450008392334]\n"
     ]
    }
   ],
   "source": [
    "print(\"Training the duckling...\")\n",
    "model.fit(\n",
    "      XY, Z,\n",
    "      epochs=100,\n",
    "     batch_size=1000,\n",
    "     use_multiprocessing=True,\n",
    "      verbose=False\n",
    ")\n",
    "model.save(\"smart_duckling_colab.h5\")\n",
    "print(\"Done,\", model.evaluate(XY, Z))"
   ]
  },
  {
   "cell_type": "markdown",
   "metadata": {
    "id": "Nyhhm7oELLwL"
   },
   "source": [
    "Ну и теперь посмотрим, как оно научилось ограничивать фигуру, но уже на 2500 точках..."
   ]
  },
  {
   "cell_type": "code",
   "execution_count": 5,
   "metadata": {
    "colab": {
     "base_uri": "https://localhost:8080/",
     "height": 265
    },
    "id": "AAX6s7DmLLwL",
    "outputId": "ee9b550e-95dd-411f-f33a-675d65e90a86"
   },
   "outputs": [
    {
     "data": {
      "image/png": "[encoded data removed]",
      "text/plain": [
       "<Figure size 432x288 with 1 Axes>"
      ]
     },
     "metadata": {
      "needs_background": "light"
     },
     "output_type": "display_data"
    }
   ],
   "source": [
    "%matplotlib inline\n",
    "\n",
    "import matplotlib.pyplot as plt\n",
    "\n",
    "plt.axis('equal')\n",
    "\n",
    "c = np.linspace(-2,2,50)\n",
    "\n",
    "# https://stackoverflow.com/a/11144716/539470 =)\n",
    "XY = np.transpose([np.tile(c, len(c)), np.repeat(c, len(c))])\n",
    "\n",
    "Z = model.predict(XY)\n",
    "\n",
    "for (x, y), z in zip(XY, Z):\n",
    "    plt.scatter(x, y, c='red' if z[0] >= 0.5 else 'green', marker='.')\n",
    "\n",
    "plt.show()"
   ]
  },
  {
   "cell_type": "code",
   "execution_count": 6,
   "metadata": {
    "colab": {
     "base_uri": "https://localhost:8080/",
     "height": 265
    },
    "id": "3wLtlZEoLLwM",
    "outputId": "dc631e13-8803-44a4-c16d-e76d936055b7"
   },
   "outputs": [
    {
     "data": {
      "image/png": "[encoded data removed]",
      "text/plain": [
       "<Figure size 432x288 with 1 Axes>"
      ]
     },
     "metadata": {
      "needs_background": "light"
     },
     "output_type": "display_data"
    }
   ],
   "source": [
    "def saturate(v):\n",
    "    return min(1, max(0, v))\n",
    "\n",
    "plt.axis('equal')\n",
    "\n",
    "for (x, y), z in zip(XY, Z):\n",
    "    plt.scatter(x, y, color=[(1, 1-saturate(z[0]), 1-saturate(z[0]))], marker='.')\n",
    "\n",
    "plt.show()"
   ]
  },
  {
   "cell_type": "code",
   "execution_count": null,
   "metadata": {},
   "outputs": [],
   "source": []
  }
 ],
 "metadata": {
  "anaconda-cloud": {},
  "colab": {
   "collapsed_sections": [],
   "name": "10.c.PythonNN_More_Keras.ipynb",
   "provenance": []
  },
  "kernelspec": {
   "display_name": "Python 3",
   "language": "python",
   "name": "python3"
  },
  "language_info": {
   "codemirror_mode": {
    "name": "ipython",
    "version": 3
   },
   "file_extension": ".py",
   "mimetype": "text/x-python",
   "name": "python",
   "nbconvert_exporter": "python",
   "pygments_lexer": "ipython3",
   "version": "3.8.5"
  }
 },
 "nbformat": 4,
 "nbformat_minor": 4
}
